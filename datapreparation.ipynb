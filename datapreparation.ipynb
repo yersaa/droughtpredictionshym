{
 "cells": [
  {
   "cell_type": "code",
   "execution_count": 18,
   "id": "f9f8b1fb-de20-49ef-a4da-e7bfc5f80e54",
   "metadata": {},
   "outputs": [
    {
     "name": "stdout",
     "output_type": "stream",
     "text": [
      "Requirement already satisfied: openpyxl in c:\\users\\erson\\appdata\\local\\programs\\python\\python39\\lib\\site-packages (3.1.5)\n",
      "Requirement already satisfied: et-xmlfile in c:\\users\\erson\\appdata\\local\\programs\\python\\python39\\lib\\site-packages (from openpyxl) (2.0.0)\n"
     ]
    },
    {
     "name": "stderr",
     "output_type": "stream",
     "text": [
      "\n",
      "[notice] A new release of pip is available: 24.3.1 -> 25.1.1\n",
      "[notice] To update, run: python.exe -m pip install --upgrade pip\n"
     ]
    }
   ],
   "source": [
    "!pip install openpyxl"
   ]
  },
  {
   "cell_type": "code",
   "execution_count": 22,
   "id": "f591ab4d-52ad-41bb-bb78-e81a5ab2054c",
   "metadata": {},
   "outputs": [
    {
     "data": {
      "text/html": [
       "<div>\n",
       "<style scoped>\n",
       "    .dataframe tbody tr th:only-of-type {\n",
       "        vertical-align: middle;\n",
       "    }\n",
       "\n",
       "    .dataframe tbody tr th {\n",
       "        vertical-align: top;\n",
       "    }\n",
       "\n",
       "    .dataframe thead th {\n",
       "        text-align: right;\n",
       "    }\n",
       "</style>\n",
       "<table border=\"1\" class=\"dataframe\">\n",
       "  <thead>\n",
       "    <tr style=\"text-align: right;\">\n",
       "      <th></th>\n",
       "      <th>Date</th>\n",
       "      <th>Precipitation</th>\n",
       "      <th>AirTemp_Avg</th>\n",
       "      <th>AirTemp_Max</th>\n",
       "      <th>AirTemp_Min</th>\n",
       "      <th>Humidity_Avg</th>\n",
       "      <th>Humidity_Min</th>\n",
       "      <th>WindSpeed_Avg</th>\n",
       "      <th>WindSpeed_Max</th>\n",
       "      <th>Cloud_O</th>\n",
       "      <th>Cloud_H</th>\n",
       "      <th>SoilTemp_Avg</th>\n",
       "      <th>SoilTemp_Max</th>\n",
       "      <th>SoilTemp_Min</th>\n",
       "      <th>SaturationDeficit_Avg</th>\n",
       "      <th>SaturationDeficit_Max</th>\n",
       "    </tr>\n",
       "  </thead>\n",
       "  <tbody>\n",
       "    <tr>\n",
       "      <th>0</th>\n",
       "      <td>2010-01-01</td>\n",
       "      <td>0.0</td>\n",
       "      <td>9.4</td>\n",
       "      <td>16.7</td>\n",
       "      <td>2.1</td>\n",
       "      <td>57</td>\n",
       "      <td>31</td>\n",
       "      <td>1.5</td>\n",
       "      <td>2</td>\n",
       "      <td>5</td>\n",
       "      <td>7</td>\n",
       "      <td>5</td>\n",
       "      <td>20</td>\n",
       "      <td>-2.0</td>\n",
       "      <td>5.6</td>\n",
       "      <td>12.9</td>\n",
       "    </tr>\n",
       "    <tr>\n",
       "      <th>1</th>\n",
       "      <td>2010-01-02</td>\n",
       "      <td>0.0</td>\n",
       "      <td>9.8</td>\n",
       "      <td>18.0</td>\n",
       "      <td>3.8</td>\n",
       "      <td>58</td>\n",
       "      <td>28</td>\n",
       "      <td>1.6</td>\n",
       "      <td>2</td>\n",
       "      <td>2</td>\n",
       "      <td>6</td>\n",
       "      <td>5</td>\n",
       "      <td>16</td>\n",
       "      <td>1.0</td>\n",
       "      <td>5.7</td>\n",
       "      <td>13.7</td>\n",
       "    </tr>\n",
       "    <tr>\n",
       "      <th>2</th>\n",
       "      <td>2010-01-03</td>\n",
       "      <td>0.3</td>\n",
       "      <td>9.1</td>\n",
       "      <td>14.1</td>\n",
       "      <td>4.7</td>\n",
       "      <td>61</td>\n",
       "      <td>48</td>\n",
       "      <td>1.1</td>\n",
       "      <td>3</td>\n",
       "      <td>2</td>\n",
       "      <td>6</td>\n",
       "      <td>5</td>\n",
       "      <td>11</td>\n",
       "      <td>0.0</td>\n",
       "      <td>4.7</td>\n",
       "      <td>7.9</td>\n",
       "    </tr>\n",
       "    <tr>\n",
       "      <th>3</th>\n",
       "      <td>2010-01-04</td>\n",
       "      <td>0.0</td>\n",
       "      <td>13.2</td>\n",
       "      <td>17.6</td>\n",
       "      <td>9.3</td>\n",
       "      <td>44</td>\n",
       "      <td>29</td>\n",
       "      <td>3.1</td>\n",
       "      <td>6</td>\n",
       "      <td>2</td>\n",
       "      <td>6</td>\n",
       "      <td>8</td>\n",
       "      <td>17</td>\n",
       "      <td>0.0</td>\n",
       "      <td>8.9</td>\n",
       "      <td>13.4</td>\n",
       "    </tr>\n",
       "    <tr>\n",
       "      <th>4</th>\n",
       "      <td>2010-01-05</td>\n",
       "      <td>2.4</td>\n",
       "      <td>11.6</td>\n",
       "      <td>18.7</td>\n",
       "      <td>8.7</td>\n",
       "      <td>60</td>\n",
       "      <td>41</td>\n",
       "      <td>2.5</td>\n",
       "      <td>4</td>\n",
       "      <td>3</td>\n",
       "      <td>3</td>\n",
       "      <td>8</td>\n",
       "      <td>24</td>\n",
       "      <td>3.0</td>\n",
       "      <td>5.9</td>\n",
       "      <td>11.7</td>\n",
       "    </tr>\n",
       "  </tbody>\n",
       "</table>\n",
       "</div>"
      ],
      "text/plain": [
       "        Date  Precipitation  AirTemp_Avg  AirTemp_Max  AirTemp_Min  \\\n",
       "0 2010-01-01            0.0          9.4         16.7          2.1   \n",
       "1 2010-01-02            0.0          9.8         18.0          3.8   \n",
       "2 2010-01-03            0.3          9.1         14.1          4.7   \n",
       "3 2010-01-04            0.0         13.2         17.6          9.3   \n",
       "4 2010-01-05            2.4         11.6         18.7          8.7   \n",
       "\n",
       "   Humidity_Avg  Humidity_Min  WindSpeed_Avg  WindSpeed_Max  Cloud_O  Cloud_H  \\\n",
       "0            57            31            1.5              2        5        7   \n",
       "1            58            28            1.6              2        2        6   \n",
       "2            61            48            1.1              3        2        6   \n",
       "3            44            29            3.1              6        2        6   \n",
       "4            60            41            2.5              4        3        3   \n",
       "\n",
       "   SoilTemp_Avg  SoilTemp_Max  SoilTemp_Min  SaturationDeficit_Avg  \\\n",
       "0             5            20          -2.0                    5.6   \n",
       "1             5            16           1.0                    5.7   \n",
       "2             5            11           0.0                    4.7   \n",
       "3             8            17           0.0                    8.9   \n",
       "4             8            24           3.0                    5.9   \n",
       "\n",
       "   SaturationDeficit_Max  \n",
       "0                   12.9  \n",
       "1                   13.7  \n",
       "2                    7.9  \n",
       "3                   13.4  \n",
       "4                   11.7  "
      ]
     },
     "execution_count": 22,
     "metadata": {},
     "output_type": "execute_result"
    }
   ],
   "source": [
    "import pandas as pd\n",
    "\n",
    "# Загрузка файла\n",
    "df = pd.read_excel(\"shymkentmeteodata.xlsx\")  # Замени на своё имя файла\n",
    "\n",
    "# Удаляем лишние кавычки из названий колонок\n",
    "df.columns = df.columns.str.replace('\"', '').str.strip()\n",
    "\n",
    "# Заменяем запятые на точки во всех строках, затем приводим к числам\n",
    "for col in df.columns:\n",
    "    if col != \"Date\":\n",
    "        df[col] = df[col].astype(str).str.replace(',', '.', regex=False)\n",
    "        df[col] = pd.to_numeric(df[col], errors='coerce')\n",
    "\n",
    "# Преобразуем дату\n",
    "df[\"Date\"] = pd.to_datetime(df[\"Date\"], dayfirst=True)\n",
    "\n",
    "# Сохраняем чистый файл\n",
    "df.to_excel(\"shymkent_cleaned.xlsx\", index=False)\n",
    "\n",
    "df.head()\n"
   ]
  },
  {
   "cell_type": "code",
   "execution_count": 23,
   "id": "dc8a1bac-4563-4d13-9710-e6643c9c5d99",
   "metadata": {},
   "outputs": [],
   "source": [
    "import pandas as pd\n",
    "from sklearn.model_selection import train_test_split\n",
    "from sklearn.ensemble import RandomForestClassifier\n",
    "from sklearn.metrics import classification_report, confusion_matrix\n",
    "import matplotlib.pyplot as plt\n",
    "import seaborn as sns"
   ]
  },
  {
   "cell_type": "code",
   "execution_count": 24,
   "id": "c6b4881d-b667-42a1-b878-35fef6ca80f7",
   "metadata": {},
   "outputs": [],
   "source": [
    "# Загрузка очищенного файла\n",
    "df = pd.read_excel(\"shymkent_cleaned.xlsx\")"
   ]
  },
  {
   "cell_type": "code",
   "execution_count": 25,
   "id": "3579b016-e6e2-4171-b4d2-888964e2e871",
   "metadata": {},
   "outputs": [],
   "source": [
    "# Создание метки засухи (если осадки < 1 мм — засуха)\n",
    "df[\"Drought\"] = (df[\"Precipitation\"] < 1).astype(int)"
   ]
  },
  {
   "cell_type": "code",
   "execution_count": 26,
   "id": "17e4e919-f570-403d-90c5-b668dd45647b",
   "metadata": {},
   "outputs": [],
   "source": [
    "# Удалим строки с пропущенными значениями\n",
    "df = df.dropna()"
   ]
  },
  {
   "cell_type": "code",
   "execution_count": 27,
   "id": "773aaafc-e985-4cf4-bcbf-5d4c71e5e670",
   "metadata": {},
   "outputs": [],
   "source": [
    "# Выбор признаков\n",
    "features = df.drop(columns=[\"Date\", \"Drought\"])\n",
    "target = df[\"Drought\"]"
   ]
  },
  {
   "cell_type": "code",
   "execution_count": 28,
   "id": "63eb45d0-7346-4727-8857-b3f2974d601b",
   "metadata": {},
   "outputs": [],
   "source": [
    "# Разделение на train/test\n",
    "X_train, X_test, y_train, y_test = train_test_split(features, target, test_size=0.2, random_state=42)"
   ]
  },
  {
   "cell_type": "code",
   "execution_count": 29,
   "id": "fea97889-6036-47fb-a772-ecbf104bb783",
   "metadata": {},
   "outputs": [
    {
     "data": {
      "text/html": [
       "<style>#sk-container-id-1 {color: black;}#sk-container-id-1 pre{padding: 0;}#sk-container-id-1 div.sk-toggleable {background-color: white;}#sk-container-id-1 label.sk-toggleable__label {cursor: pointer;display: block;width: 100%;margin-bottom: 0;padding: 0.3em;box-sizing: border-box;text-align: center;}#sk-container-id-1 label.sk-toggleable__label-arrow:before {content: \"▸\";float: left;margin-right: 0.25em;color: #696969;}#sk-container-id-1 label.sk-toggleable__label-arrow:hover:before {color: black;}#sk-container-id-1 div.sk-estimator:hover label.sk-toggleable__label-arrow:before {color: black;}#sk-container-id-1 div.sk-toggleable__content {max-height: 0;max-width: 0;overflow: hidden;text-align: left;background-color: #f0f8ff;}#sk-container-id-1 div.sk-toggleable__content pre {margin: 0.2em;color: black;border-radius: 0.25em;background-color: #f0f8ff;}#sk-container-id-1 input.sk-toggleable__control:checked~div.sk-toggleable__content {max-height: 200px;max-width: 100%;overflow: auto;}#sk-container-id-1 input.sk-toggleable__control:checked~label.sk-toggleable__label-arrow:before {content: \"▾\";}#sk-container-id-1 div.sk-estimator input.sk-toggleable__control:checked~label.sk-toggleable__label {background-color: #d4ebff;}#sk-container-id-1 div.sk-label input.sk-toggleable__control:checked~label.sk-toggleable__label {background-color: #d4ebff;}#sk-container-id-1 input.sk-hidden--visually {border: 0;clip: rect(1px 1px 1px 1px);clip: rect(1px, 1px, 1px, 1px);height: 1px;margin: -1px;overflow: hidden;padding: 0;position: absolute;width: 1px;}#sk-container-id-1 div.sk-estimator {font-family: monospace;background-color: #f0f8ff;border: 1px dotted black;border-radius: 0.25em;box-sizing: border-box;margin-bottom: 0.5em;}#sk-container-id-1 div.sk-estimator:hover {background-color: #d4ebff;}#sk-container-id-1 div.sk-parallel-item::after {content: \"\";width: 100%;border-bottom: 1px solid gray;flex-grow: 1;}#sk-container-id-1 div.sk-label:hover label.sk-toggleable__label {background-color: #d4ebff;}#sk-container-id-1 div.sk-serial::before {content: \"\";position: absolute;border-left: 1px solid gray;box-sizing: border-box;top: 0;bottom: 0;left: 50%;z-index: 0;}#sk-container-id-1 div.sk-serial {display: flex;flex-direction: column;align-items: center;background-color: white;padding-right: 0.2em;padding-left: 0.2em;position: relative;}#sk-container-id-1 div.sk-item {position: relative;z-index: 1;}#sk-container-id-1 div.sk-parallel {display: flex;align-items: stretch;justify-content: center;background-color: white;position: relative;}#sk-container-id-1 div.sk-item::before, #sk-container-id-1 div.sk-parallel-item::before {content: \"\";position: absolute;border-left: 1px solid gray;box-sizing: border-box;top: 0;bottom: 0;left: 50%;z-index: -1;}#sk-container-id-1 div.sk-parallel-item {display: flex;flex-direction: column;z-index: 1;position: relative;background-color: white;}#sk-container-id-1 div.sk-parallel-item:first-child::after {align-self: flex-end;width: 50%;}#sk-container-id-1 div.sk-parallel-item:last-child::after {align-self: flex-start;width: 50%;}#sk-container-id-1 div.sk-parallel-item:only-child::after {width: 0;}#sk-container-id-1 div.sk-dashed-wrapped {border: 1px dashed gray;margin: 0 0.4em 0.5em 0.4em;box-sizing: border-box;padding-bottom: 0.4em;background-color: white;}#sk-container-id-1 div.sk-label label {font-family: monospace;font-weight: bold;display: inline-block;line-height: 1.2em;}#sk-container-id-1 div.sk-label-container {text-align: center;}#sk-container-id-1 div.sk-container {/* jupyter's `normalize.less` sets `[hidden] { display: none; }` but bootstrap.min.css set `[hidden] { display: none !important; }` so we also need the `!important` here to be able to override the default hidden behavior on the sphinx rendered scikit-learn.org. See: https://github.com/scikit-learn/scikit-learn/issues/21755 */display: inline-block !important;position: relative;}#sk-container-id-1 div.sk-text-repr-fallback {display: none;}</style><div id=\"sk-container-id-1\" class=\"sk-top-container\"><div class=\"sk-text-repr-fallback\"><pre>RandomForestClassifier(random_state=42)</pre><b>In a Jupyter environment, please rerun this cell to show the HTML representation or trust the notebook. <br />On GitHub, the HTML representation is unable to render, please try loading this page with nbviewer.org.</b></div><div class=\"sk-container\" hidden><div class=\"sk-item\"><div class=\"sk-estimator sk-toggleable\"><input class=\"sk-toggleable__control sk-hidden--visually\" id=\"sk-estimator-id-1\" type=\"checkbox\" checked><label for=\"sk-estimator-id-1\" class=\"sk-toggleable__label sk-toggleable__label-arrow\">RandomForestClassifier</label><div class=\"sk-toggleable__content\"><pre>RandomForestClassifier(random_state=42)</pre></div></div></div></div></div>"
      ],
      "text/plain": [
       "RandomForestClassifier(random_state=42)"
      ]
     },
     "execution_count": 29,
     "metadata": {},
     "output_type": "execute_result"
    }
   ],
   "source": [
    "# Модель\n",
    "model = RandomForestClassifier(n_estimators=100, random_state=42)\n",
    "model.fit(X_train, y_train)"
   ]
  },
  {
   "cell_type": "code",
   "execution_count": 30,
   "id": "e486f947-ec7d-45b5-92aa-67d70de29999",
   "metadata": {},
   "outputs": [],
   "source": [
    "# Предсказание\n",
    "y_pred = model.predict(X_test)"
   ]
  },
  {
   "cell_type": "code",
   "execution_count": 31,
   "id": "a40c62ab-c788-4662-9696-292e31d18b47",
   "metadata": {},
   "outputs": [
    {
     "name": "stdout",
     "output_type": "stream",
     "text": [
      "📊 Classification Report:\n",
      "               precision    recall  f1-score   support\n",
      "\n",
      "           0       1.00      1.00      1.00       235\n",
      "           1       1.00      1.00      1.00       848\n",
      "\n",
      "    accuracy                           1.00      1083\n",
      "   macro avg       1.00      1.00      1.00      1083\n",
      "weighted avg       1.00      1.00      1.00      1083\n",
      "\n",
      "🧩 Confusion Matrix:\n",
      " [[235   0]\n",
      " [  0 848]]\n"
     ]
    }
   ],
   "source": [
    "# Метрики\n",
    "print(\"📊 Classification Report:\\n\", classification_report(y_test, y_pred))\n",
    "print(\"🧩 Confusion Matrix:\\n\", confusion_matrix(y_test, y_pred))"
   ]
  },
  {
   "cell_type": "code",
   "execution_count": 32,
   "id": "7bd4ca25-604a-4563-ad25-d2a0135f9414",
   "metadata": {},
   "outputs": [
    {
     "data": {
      "image/png": "[encoded data removed]",
      "text/plain": [
       "<Figure size 1000x600 with 1 Axes>"
      ]
     },
     "metadata": {},
     "output_type": "display_data"
    }
   ],
   "source": [
    "# Визуализация важности признаков\n",
    "importances = pd.Series(model.feature_importances_, index=features.columns)\n",
    "importances.sort_values().plot(kind=\"barh\", figsize=(10, 6), title=\"Feature Importance\")\n",
    "plt.tight_layout()\n",
    "plt.show()"
   ]
  },
  {
   "cell_type": "code",
   "execution_count": null,
   "id": "25f13c2d-f9ed-4089-9628-d045c4dd41a3",
   "metadata": {},
   "outputs": [],
   "source": []
  }
 ],
 "metadata": {
  "kernelspec": {
   "display_name": "Python 3 (ipykernel)",
   "language": "python",
   "name": "python3"
  },
  "language_info": {
   "codemirror_mode": {
    "name": "ipython",
    "version": 3
   },
   "file_extension": ".py",
   "mimetype": "text/x-python",
   "name": "python",
   "nbconvert_exporter": "python",
   "pygments_lexer": "ipython3",
   "version": "3.9.13"
  }
 },
 "nbformat": 4,
 "nbformat_minor": 5
}
